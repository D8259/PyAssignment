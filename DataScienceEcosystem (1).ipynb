{
 "cells": [
  {
   "cell_type": "markdown",
   "id": "56a1343c-6ddb-4cba-bf7e-7091602ea014",
   "metadata": {},
   "source": [
    "# Data Science Tools and Ecosystem\n"
   ]
  },
  {
   "cell_type": "markdown",
   "id": "c473d9e1-dc67-421d-aabe-f5ead77841db",
   "metadata": {},
   "source": [
    "In this notebook, Data Science Tools and Ecosystem are summarized"
   ]
  },
  {
   "cell_type": "markdown",
   "id": "0a2fd0a2-8476-40fe-a0b1-4c13210beb28",
   "metadata": {},
   "source": [
    "**Objectives:**\n",
    "* Decribe R capabilites and RStudio enviroment.\n",
    "* Use inbuilt R plot function\n",
    "* Describe the purpose of source repositories and explain how GitHub satisfies the needs of a source repository.\n",
    "* Demonstrate how to edit and upload files in GitHub.\n",
    "* Explain the purpose of branches and describe how to merge changes into branches."
   ]
  },
  {
   "cell_type": "markdown",
   "id": "e26cc827-bbc0-4bd0-9832-8c8a903513c4",
   "metadata": {},
   "source": [
    "Some of the popular languages that Data Scientists use are:\n",
    "1. Python\n",
    "2. R\n",
    "3. SQL\n"
   ]
  },
  {
   "cell_type": "markdown",
   "id": "e0b7b1b3-4f13-4fb1-9f34-865d4be97b4b",
   "metadata": {},
   "source": [
    "Some of the commonly used libraries used by Data Scientists include:\n",
    "\n",
    "1. Pandas\n",
    "2. NumPy\n",
    "3. Matplotlib"
   ]
  },
  {
   "cell_type": "markdown",
   "id": "2e2bc40f-0adc-4d28-b6df-2471c556513f",
   "metadata": {},
   "source": [
    "| Data Science Tools |\n",
    "|--------------------|\n",
    "| Visual Studio |\n",
    "| Jupyter Lab |\n",
    "| Apache Spark |\n"
   ]
  },
  {
   "cell_type": "markdown",
   "id": "2758454a-188e-4e5d-ba48-4b025583694b",
   "metadata": {},
   "source": [
    "### Below are a few examples of evaluating arithmetic expressions in Python"
   ]
  },
  {
   "cell_type": "markdown",
   "id": "70f72e1c-cdb8-4079-8739-57421222f7e0",
   "metadata": {},
   "source": [
    "This a simple arithmetic expression to mutiply then add integers"
   ]
  },
  {
   "cell_type": "code",
   "execution_count": 3,
   "id": "7ff3f856-9412-4514-8d84-768e2bc4d2da",
   "metadata": {},
   "outputs": [
    {
     "data": {
      "text/plain": [
       "17"
      ]
     },
     "execution_count": 3,
     "metadata": {},
     "output_type": "execute_result"
    }
   ],
   "source": [
    "(3*4)+5"
   ]
  },
  {
   "cell_type": "markdown",
   "id": "0ff91efa-337d-43c2-b7ca-9daac8d411f4",
   "metadata": {},
   "source": [
    "This will convert 200 minutes to hours by diving by 60"
   ]
  },
  {
   "cell_type": "code",
   "execution_count": 4,
   "id": "4ec6686a-d2f4-49d6-9a54-728dde23fc7e",
   "metadata": {},
   "outputs": [
    {
     "data": {
      "text/plain": [
       "3.3333333333333335"
      ]
     },
     "execution_count": 4,
     "metadata": {},
     "output_type": "execute_result"
    }
   ],
   "source": [
    "200/60\n"
   ]
  },
  {
   "cell_type": "markdown",
   "id": "b97e4608-dfec-4cfb-8b11-465256b5da30",
   "metadata": {},
   "source": [
    "## Author \n",
    "Daniela Brochero"
   ]
  },
  {
   "cell_type": "code",
   "execution_count": null,
   "id": "9b8122c9-11f2-4ef6-bd70-a97ed0a03c9d",
   "metadata": {},
   "outputs": [],
   "source": []
  }
 ],
 "metadata": {
  "kernelspec": {
   "display_name": "Python 3 (ipykernel)",
   "language": "python",
   "name": "python3"
  },
  "language_info": {
   "codemirror_mode": {
    "name": "ipython",
    "version": 3
   },
   "file_extension": ".py",
   "mimetype": "text/x-python",
   "name": "python",
   "nbconvert_exporter": "python",
   "pygments_lexer": "ipython3",
   "version": "3.11.7"
  }
 },
 "nbformat": 4,
 "nbformat_minor": 5
}
